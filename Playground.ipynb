{
 "cells": [
  {
   "cell_type": "markdown",
   "metadata": {},
   "source": [
    "# RESDecryptor\n",
    "\n",
    "This notebook helps in discovering passwords and encryption mechanisms in RESAM. The RESDectyptor module contains some functions that do this but for developing / playing around I find this easier than a (jupyter) console.\n",
    "\n",
    "The simplest encryption mechanism in RESAM is a substituion cypher (Vigenere) which is used at the task level. Some tasks allow you to set a security context and the UI offers to store this for future use. Different keys are used for different task types but consistency is, as usual, not to be found.\n",
    "\n",
    "The building block xml seems to have evolved over time, with many little (annoying) differences. Most of teh time the password for the security context is stored in `//tasks/task/settings/password` but this can also be something like `//tasks/task/settings/dbpassword` or `//tasks/task/settings/securitypassword`.\n",
    "\n",
    "The xpath expression I use for now is  `//*[contains(local-name(), 'password')]` which seems to catch them all (for now)."
   ]
  },
  {
   "cell_type": "code",
   "execution_count": 1,
   "metadata": {
    "collapsed": false
   },
   "outputs": [],
   "source": [
    "from resdecryptor import *\n",
    "\n",
    "somepw = 'abcdefghABCDEFGH1234!@#$'\n",
    "\n",
    "cyphertexts = [\n",
    "    '00D000CF00D000C500D300CA00AA00D700AE00AF00A400B200A9008900B600B5009E009300A10098006400AF00900091',\n",
    "    '00B200AE00B600C700D700CF00D700DC00940093008F009700A800B800B000B800A5008500840080007400A30095008D',\n",
    "    '00C600D000C700A400B200C700D000D4009400A700B100A80085009300A800B1009D0085009800A20085008000700085',\n",
    "    '00B400AA00A600D300D200D300C800D600A500B500960097008D008900B600B5009E009300A10098009400930076006C',\n",
    "    '00C600C400B600C900D700DC00D000CB00A6009900A800A6009800AB00B900BE009A00950098008B008600A200760089'\n",
    "    ]"
   ]
  },
  {
   "cell_type": "code",
   "execution_count": 2,
   "metadata": {
    "collapsed": false
   },
   "outputs": [
    {
     "name": "stdout",
     "output_type": "stream",
     "text": [
      "ommandCommandCommandComm\n",
      "QLScriptSQLScriptSQLScri\n",
      "end@MailSend@MailSend@Ma\n",
      "SHCommandsSSHCommandsSSH\n",
      "ebServiceWebServiceWebSe\n"
     ]
    }
   ],
   "source": [
    "for t in cyphertexts:\n",
    "    print(derive_key(somepw, t))"
   ]
  },
  {
   "cell_type": "code",
   "execution_count": null,
   "metadata": {
    "collapsed": true
   },
   "outputs": [],
   "source": []
  }
 ],
 "metadata": {
  "kernelspec": {
   "display_name": "Python 3",
   "language": "python3",
   "name": "python3"
  },
  "language_info": {
   "codemirror_mode": {
    "name": "ipython",
    "version": 3
   },
   "file_extension": ".py",
   "mimetype": "text/x-python",
   "name": "python",
   "nbconvert_exporter": "python",
   "pygments_lexer": "ipython3",
   "version": "3.6.0"
  }
 },
 "nbformat": 4,
 "nbformat_minor": 2
}
