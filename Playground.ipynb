{
 "cells": [
  {
   "cell_type": "markdown",
   "metadata": {},
   "source": [
    "# RESDecryptor\n",
    "\n",
    "This notebook helps in discovering passwords and encryption mechanisms in RESAM. The RESDectyptor module contains some functions that do this but for developing / playing around I find this easier than a (jupyter) console.\n",
    "\n",
    "The simplest encryption mechanism in RESAM is a substituion cypher (Vigenere) which is used at the task level. Some tasks allow you to set a security context and the UI offers to store this for future use. Different keys are used for different task types but consistency is, as usual, not to be found.\n",
    "\n",
    "The building block xml seems to have evolved over time, with many little (annoying) differences. Most of teh time the password for the security context is stored in `//tasks/task/settings/password` but this can also be something like `//tasks/task/settings/dbpassword` or `//tasks/task/settings/securitypassword`.\n",
    "\n",
    "The xpath expression I use for now is  `//*[contains(local-name(), 'password')]` which seems to catch them all (for now)."
   ]
  },
  {
   "cell_type": "code",
   "execution_count": 1,
   "metadata": {
    "collapsed": false
   },
   "outputs": [],
   "source": [
    "from resdecryptor import *\n",
    "\n",
    "somepw = 'abcdefghABCDEFGH1234!@#$'\n",
    "\n",
    "cyphertexts = [\n",
    "    '00D000CF00D000C500D300CA00AA00D700AE00AF00A400B200A9008900B600B5009E009300A10098006400AF00900091',\n",
    "    '00B200AE00B600C700D700CF00D700DC00940093008F009700A800B800B000B800A5008500840080007400A30095008D',\n",
    "    '00C600D000C700A400B200C700D000D4009400A700B100A80085009300A800B1009D0085009800A20085008000700085',\n",
    "    '00B400AA00A600D300D200D300C800D600A500B500960097008D008900B600B5009E009300A10098009400930076006C',\n",
    "    '00C600C400B600C900D700DC00D000CB00A6009900A800A6009800AB00B900BE009A00950098008B008600A200760089'\n",
    "    ]"
   ]
  },
  {
   "cell_type": "code",
   "execution_count": 2,
   "metadata": {
    "collapsed": false
   },
   "outputs": [
    {
     "name": "stdout",
     "output_type": "stream",
     "text": [
      "ommandCommandCommandComm\n",
      "QLScriptSQLScriptSQLScri\n",
      "end@MailSend@MailSend@Ma\n",
      "SHCommandsSSHCommandsSSH\n",
      "ebServiceWebServiceWebSe\n"
     ]
    }
   ],
   "source": [
    "for t in cyphertexts:\n",
    "    print(derive_key(somepw, t))"
   ]
  },
  {
   "cell_type": "markdown",
   "metadata": {
    "collapsed": true
   },
   "source": [
    "Paramaters can also hold passwords, but they seem to use another algorithm. Since we also have the ability for chosen plain text attacks let's see what we can find out. I created a module with some parameters, extracted the building block and extracted the plain text and corresponding cipher texts."
   ]
  },
  {
   "cell_type": "code",
   "execution_count": 7,
   "metadata": {
    "collapsed": false
   },
   "outputs": [],
   "source": [
    "params = [(\"a\",\"00C2\")\n",
    ", (\"aa\",\"0082009E\")\n",
    ", (\"aaa\",\"00FE00CA0085\")\n",
    ", (\"b\",\"00C3\")\n",
    ", (\"bb\",\"014300EE\")\n",
    ", (\"bbb\",\"007B00C60121\")\n",
    ", (\"ab\",\"008600A1\")\n",
    ", (\"ba\",\"014700F1\")\n",
    ", (\"abc\",\"00D800A1013F\")\n",
    ", (\"acb\",\"013B20670084\")\n",
    ", (\"bac\",\"01180131007E\")\n",
    ", (\"bca\",\"015E00AF0088\")\n",
    ", (\"cab\",\"013B010000C2\")\n",
    ", (\"cba\",\"00DE013F0087\")\n",
    ", (\"aaaaaaaaaaaaaaaa\",\"011200BA0159005C01680125006600D30096014E006E00EA006900B800650059\")\n",
    ", (\"bbbbbbbbbbbbbbbb\",\"012300A60149006C00E4008100B301142102015B008E010B0066008401010079\")\n",
    ", (\"c\",\"00C4\")\n",
    ", (\"E\",\"00A6\")\n",
    ", (\"F\",\"00A7\")\n",
    ", (\"G\",\"00A8\")\n",
    ", (\"ac\",\"00BA00A0\")\n",
    ", (\"ad\",\"00A600A3\")\n",
    ", (\"ae\",\"015200A2\")\n",
    ", (\"bc\",\"006F00EF\")\n",
    ", (\"bd\",\"014B00F4\")\n",
    ", (\"be\",\"007F00F5\")\n",
    ", (\"aab\",\"00DB00F60144\")\n",
    ", (\"aac\",\"0138006200BF\")\n",
    ", (\"aad\",\"00D5008E007E\")]\n"
   ]
  },
  {
   "cell_type": "code",
   "execution_count": 10,
   "metadata": {
    "collapsed": false
   },
   "outputs": [
    {
     "name": "stdout",
     "output_type": "stream",
     "text": [
      "a [97]\n",
      "b [97]\n",
      "c [97]\n",
      "E [97]\n",
      "F [97]\n",
      "G [97]\n",
      "aa [33, 61]\n",
      "bb [225, 140]\n",
      "ab [37, 63]\n",
      "ba [229, 144]\n",
      "ac [89, 61]\n",
      "ad [69, 63]\n",
      "ae [241, 61]\n",
      "bc [13, 140]\n",
      "bd [233, 144]\n",
      "be [29, 144]\n",
      "aaa [157, 105, 36]\n",
      "bbb [25, 100, 191]\n",
      "abc [119, 63, 220]\n",
      "acb [218, 8196, 34]\n",
      "bac [182, 208, 27]\n",
      "bca [252, 76, 39]\n",
      "cab [216, 159, 96]\n",
      "cba [123, 221, 38]\n",
      "aab [122, 149, 226]\n",
      "aac [215, 1, 92]\n",
      "aad [116, 45, 26]\n",
      "aaaaaaaaaaaaaaaa [177, 89, 248, -5, 263, 196, 5, 114, 53, 237, 13, 137, 8, 87, 4, -8]\n",
      "bbbbbbbbbbbbbbbb [193, 68, 231, 10, 130, 31, 81, 178, 8352, 249, 44, 169, 4, 34, 159, 23]\n"
     ]
    }
   ],
   "source": [
    "for plain, cipher in sorted(params, key=lambda t: len(t[1])):\n",
    "    print(plain, [c - p for p, c in zip(string_to_intlist(plain), hexstring_to_intlist(cipher))])"
   ]
  },
  {
   "cell_type": "markdown",
   "metadata": {},
   "source": [
    "Looking at strings of length 1 we see a difference of 97 consistently. This could indicate some sort of substitution or something but starting with length 2 we see:\n",
    "aa [33, 61]\n",
    "ab [37, 63]\n",
    "ac [89, 61]\n",
    "ad [69, 63]\n",
    "ae [241, 61]\n",
    "which shows an interesting pattern... let's do more of these."
   ]
  },
  {
   "cell_type": "code",
   "execution_count": 11,
   "metadata": {
    "collapsed": true
   },
   "outputs": [],
   "source": [
    "params2 = [(\"af\",\"015E00A5\")\n",
    ", (\"ag\",\"008A00A4\")\n",
    ", (\"ah\",\"007E00A7\")\n",
    ", (\"ai\",\"00A200A6\")\n",
    ", (\"aj\",\"00A600A9\")\n",
    ", (\"ak\",\"014A00A8\")\n",
    ", (\"al\",\"014600AB\")\n",
    ", (\"bc\",\"006F00EF\")\n",
    ", (\"bd\",\"014B00F4\")\n",
    ", (\"be\",\"007F00F5\")\n",
    ", (\"bf\",\"007300F2\")\n",
    ", (\"bg\",\"00A700F3\")\n",
    ", (\"bh\",\"008B00F8\")\n",
    ", (\"aac\",\"0138006200BF\")\n",
    ", (\"aad\",\"00D5008E007E\")\n",
    ", (\"aae\",\"0152010200D9\")\n",
    ", (\"aaf\",\"006F006600D8\")\n",
    ", (\"aag\",\"014C009A01C9\")\n",
    ", (\"aah\",\"012900FE0112\")\n",
    ", (\"bba\",\"00BE005A00A8\")\n",
    ", (\"bbb\",\"007B00C60121\")\n",
    ", (\"bbc\",\"013800F2015E\")\n",
    ", (\"bbd\",\"0075005E00DF\")\n",
    ", (\"bbe\",\"01120092013C\")\n",
    ", (\"bbf\",\"01DE00F60095\")\n",
    ", (\"bbg\",\"209A006A0132\")]"
   ]
  },
  {
   "cell_type": "code",
   "execution_count": 12,
   "metadata": {
    "collapsed": false
   },
   "outputs": [
    {
     "name": "stdout",
     "output_type": "stream",
     "text": [
      "aac [215, 1, 92]\n",
      "aad [116, 45, 26]\n",
      "aae [241, 161, 116]\n",
      "aaf [14, 5, 114]\n",
      "aag [235, 57, 354]\n",
      "aah [200, 157, 170]\n",
      "af [253, 63]\n",
      "ag [41, 61]\n",
      "ah [29, 63]\n",
      "ai [65, 61]\n",
      "aj [69, 63]\n",
      "ak [233, 61]\n",
      "al [229, 63]\n",
      "bba [92, -8, 71]\n",
      "bbb [25, 100, 191]\n",
      "bbc [214, 144, 251]\n",
      "bbd [19, -4, 123]\n",
      "bbe [176, 48, 215]\n",
      "bbf [380, 148, 47]\n",
      "bbg [8248, 8, 203]\n",
      "bc [13, 140]\n",
      "bd [233, 144]\n",
      "be [29, 144]\n",
      "bf [17, 140]\n",
      "bg [69, 140]\n",
      "bh [41, 144]\n"
     ]
    }
   ],
   "source": [
    "for plain, cipher in sorted(params2):\n",
    "    print(plain, [c - p for p, c in zip(string_to_intlist(plain), hexstring_to_intlist(cipher))])"
   ]
  },
  {
   "cell_type": "code",
   "execution_count": null,
   "metadata": {
    "collapsed": true
   },
   "outputs": [],
   "source": []
  }
 ],
 "metadata": {
  "kernelspec": {
   "display_name": "Python 3",
   "language": "python3",
   "name": "python3"
  },
  "language_info": {
   "codemirror_mode": {
    "name": "ipython",
    "version": 3
   },
   "file_extension": ".py",
   "mimetype": "text/x-python",
   "name": "python",
   "nbconvert_exporter": "python",
   "pygments_lexer": "ipython3",
   "version": "3.6.0"
  }
 },
 "nbformat": 4,
 "nbformat_minor": 2
}
